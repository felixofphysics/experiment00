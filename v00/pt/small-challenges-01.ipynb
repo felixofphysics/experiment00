{
 "cells": [
  {
   "cell_type": "markdown",
   "metadata": {},
   "source": [
    "# Small Challenges\n",
    "\n",
    "Tente descobrir o resultado de cada um dos programas abaixo, depois o execute para ver se confere com o que você supôs."
   ]
  },
  {
   "cell_type": "code",
   "execution_count": null,
   "metadata": {},
   "outputs": [],
   "source": [
    "public class Value {\n",
    "    public int number;\n",
    "    \n",
    "    public Value (int number) {\n",
    "        this.number = number;\n",
    "    }\n",
    "}\n",
    "\n",
    "public class Services {\n",
    "    public static void zero(Value x) {\n",
    "        x.number = 0;\n",
    "    }\n",
    "}\n",
    "\n",
    "Value a = new Value(15),\n",
    "      b = new Value(10),\n",
    "      c,\n",
    "      d;\n",
    "\n",
    "b = a;\n",
    "c = a;\n",
    "Services.zero(a);\n",
    "d = a;\n",
    "\n",
    "System.out.println(\"a: \" + a.number);\n",
    "System.out.println(\"b: \" + b.number);\n",
    "System.out.println(\"c: \" + c.number);\n",
    "System.out.println(\"d: \" + d.number);"
   ]
  },
  {
   "cell_type": "code",
   "execution_count": null,
   "metadata": {},
   "outputs": [],
   "source": [
    "public class A {\n",
    "    public String toString() {\n",
    "        return \"Eu sou A\";\n",
    "    }\n",
    "}\n",
    "\n",
    "public class B extends A {\n",
    "    public String toString() {\n",
    "        return \"Eu sou B\";\n",
    "    }\n",
    "    \n",
    "    public int getIdade() {\n",
    "        return 45;\n",
    "    }\n",
    "}"
   ]
  },
  {
   "cell_type": "code",
   "execution_count": null,
   "metadata": {},
   "outputs": [],
   "source": [
    "A var1 = new A();\n",
    "B var2 = var1;\n",
    "System.out.println(var2);"
   ]
  },
  {
   "cell_type": "code",
   "execution_count": null,
   "metadata": {},
   "outputs": [],
   "source": [
    "B var1 = new B();\n",
    "A var2 = var1;\n",
    "System.out.println(var2);"
   ]
  },
  {
   "cell_type": "code",
   "execution_count": null,
   "metadata": {},
   "outputs": [],
   "source": [
    "B var1 = new B();\n",
    "A var2 = var1;\n",
    "System.out.println(var2.getIdade());"
   ]
  },
  {
   "cell_type": "code",
   "execution_count": null,
   "metadata": {},
   "outputs": [],
   "source": [
    "public class C1 {\n",
    "    protected int valor;\n",
    "    \n",
    "    public C1(int valor) {\n",
    "        this.valor = valor;\n",
    "    }\n",
    "    \n",
    "    public String toString() {\n",
    "        return Integer.toString(valor);\n",
    "    }\n",
    "}\n",
    "\n",
    "public class C2 extends C1 {\n",
    "    public C2(int valor) {\n",
    "        super(valor * 2);\n",
    "    }\n",
    "}\n",
    "\n",
    "public class C3 extends C2 {\n",
    "    public C3(int valor) {\n",
    "        super(valor);\n",
    "    }\n",
    "    \n",
    "    public String toString() {\n",
    "        return Integer.toString(valor / 2);\n",
    "    }\n",
    "}\n",
    "\n",
    "public class C4 extends C1 {\n",
    "    public C4(int valor) {\n",
    "        super(valor);\n",
    "    }\n",
    "    \n",
    "    public String toString() {\n",
    "        return Integer.toString(valor / 2);\n",
    "    }\n",
    "}\n",
    "\n",
    "C1 cs[] = {new C1(50),\n",
    "           new C2(30),\n",
    "           new C3(40),\n",
    "           new C4(20)};\n",
    "\n",
    "for (int c = 0; c < cs.length; c++)\n",
    "    System.out.println(cs[c]);"
   ]
  }
 ],
 "metadata": {
  "kernelspec": {
   "display_name": "Java",
   "language": "java",
   "name": "java"
  },
  "language_info": {
   "codemirror_mode": "java",
   "file_extension": ".java",
   "mimetype": "text/x-java-source",
   "name": "Java",
   "pygments_lexer": "java",
   "version": "10.0.1+10-Debian-4"
  }
 },
 "nbformat": 4,
 "nbformat_minor": 2
}
